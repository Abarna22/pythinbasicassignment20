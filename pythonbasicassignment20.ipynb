{
 "cells": [
  {
   "cell_type": "code",
   "execution_count": 6,
   "id": "385f0496",
   "metadata": {},
   "outputs": [
    {
     "name": "stdout",
     "output_type": "stream",
     "text": [
      "[1, 2, 4]\n"
     ]
    }
   ],
   "source": [
    "\n",
    "#qp1\n",
    "\n",
    "def fil(l):\n",
    "    ls=[]\n",
    "    for i in l:\n",
    "        if type(i)==int:\n",
    "            ls.append(i)\n",
    "    return ls\n",
    "l1=[1,2,'a','b',4]    \n",
    "print(fil(l1))"
   ]
  },
  {
   "cell_type": "code",
   "execution_count": 21,
   "id": "d8acbdd3",
   "metadata": {},
   "outputs": [
    {
     "name": "stdout",
     "output_type": "stream",
     "text": [
      "length of list:4\n",
      "1\n",
      "2\n",
      "3\n",
      "4\n",
      "[1, 2, 3, 4]\n",
      "[1, 3, 5, 7]\n"
     ]
    }
   ],
   "source": [
    "#qp2\n",
    "\n",
    "def add_index(l):\n",
    "    sls=[]\n",
    "    for i in l :\n",
    "        x=l.index(i)\n",
    "        x=x+i\n",
    "        sls.append(x)\n",
    "    return sls\n",
    "n= int(input(\"length of list:\"))\n",
    "ls=[]\n",
    "for i in range(0,n):\n",
    "    e=int(input())\n",
    "    ls.append(e)\n",
    "print(ls)\n",
    "#ls=[1,2,3,4]\n",
    "print(add_index(ls))"
   ]
  },
  {
   "cell_type": "code",
   "execution_count": 32,
   "id": "50eeabba",
   "metadata": {},
   "outputs": [
    {
     "name": "stdout",
     "output_type": "stream",
     "text": [
      "Enter the height:18\n",
      "Enter the radius:0\n",
      "0.0\n"
     ]
    }
   ],
   "source": [
    "#qp3\n",
    "import math\n",
    "def volume(h,r):\n",
    "    v=(3.14*(r*r)*(h/3))\n",
    "    vol=math.ceil(v*100)/100\n",
    "    return vol\n",
    "he=int(input(\"Enter the height:\"))\n",
    "rs=int(input(\"Enter the radius:\"))\n",
    "print(volume(he,rs))"
   ]
  },
  {
   "cell_type": "code",
   "execution_count": 34,
   "id": "991990b0",
   "metadata": {},
   "outputs": [
    {
     "name": "stdout",
     "output_type": "stream",
     "text": [
      "Enter the number of dots:6\n",
      "21\n"
     ]
    }
   ],
   "source": [
    "#qp4\n",
    "import math\n",
    "def triangle(n):\n",
    "    x=n+1\n",
    "    y=(n*x)/2\n",
    "    return math.ceil(y)\n",
    "\n",
    "n1=int(input(\"Enter the number of dots:\"))\n",
    "print(triangle(n1))"
   ]
  },
  {
   "cell_type": "code",
   "execution_count": 44,
   "id": "8f88fc02",
   "metadata": {},
   "outputs": [
    {
     "name": "stdout",
     "output_type": "stream",
     "text": [
      "10\n"
     ]
    }
   ],
   "source": [
    "#qp5\n",
    "import math\n",
    "def missing(l):\n",
    "    a=len(l)                \n",
    "    total=((a+1)*(a+2))/2\n",
    "    sum_of=sum(l)\n",
    "    return math.ceil(total-sum_of)\n",
    "\n",
    "lst=[1,2,3,4,5,6,7,8,9]\n",
    "print(missing(lst))\n",
    "                  "
   ]
  },
  {
   "cell_type": "code",
   "execution_count": null,
   "id": "88694c4d",
   "metadata": {},
   "outputs": [],
   "source": []
  }
 ],
 "metadata": {
  "kernelspec": {
   "display_name": "Python 3 (ipykernel)",
   "language": "python",
   "name": "python3"
  },
  "language_info": {
   "codemirror_mode": {
    "name": "ipython",
    "version": 3
   },
   "file_extension": ".py",
   "mimetype": "text/x-python",
   "name": "python",
   "nbconvert_exporter": "python",
   "pygments_lexer": "ipython3",
   "version": "3.9.12"
  }
 },
 "nbformat": 4,
 "nbformat_minor": 5
}
